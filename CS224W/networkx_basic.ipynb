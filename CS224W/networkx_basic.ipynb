{
 "cells": [
  {
   "cell_type": "code",
   "execution_count": 3,
   "metadata": {},
   "outputs": [],
   "source": [
    "# !pip install --upgrade networkx\n",
    "# !pip install scipy==1.13.0"
   ]
  },
  {
   "cell_type": "markdown",
   "metadata": {},
   "source": [
    "https://networkx.org/documentation/stable/"
   ]
  },
  {
   "cell_type": "code",
   "execution_count": 9,
   "metadata": {},
   "outputs": [],
   "source": [
    "# Import the NetworkX package\n",
    "import networkx as nx\n",
    "import matplotlib.pyplot as plt"
   ]
  },
  {
   "cell_type": "markdown",
   "metadata": {},
   "source": [
    "# Graph"
   ]
  },
  {
   "cell_type": "code",
   "execution_count": 2,
   "metadata": {},
   "outputs": [
    {
     "name": "stdout",
     "output_type": "stream",
     "text": [
      "False\n",
      "True\n",
      "{'Name': 'Bar'}\n"
     ]
    }
   ],
   "source": [
    "# Create an undirected graph G\n",
    "G = nx.Graph()\n",
    "print(G.is_directed())\n",
    "\n",
    "# Create a directed graph H\n",
    "H = nx.DiGraph()\n",
    "print(H.is_directed())\n",
    "\n",
    "# Add graph level attribute\n",
    "G.graph[\"Name\"] = \"Bar\"\n",
    "print(G.graph)"
   ]
  },
  {
   "cell_type": "markdown",
   "metadata": {},
   "source": [
    "# Node"
   ]
  },
  {
   "cell_type": "code",
   "execution_count": 3,
   "metadata": {},
   "outputs": [
    {
     "name": "stdout",
     "output_type": "stream",
     "text": [
      "Node 0 has the attributes {'feature': 5, 'label': 1}\n"
     ]
    }
   ],
   "source": [
    "# Add one node with node level attributes\n",
    "G.add_node(0, feature=5, label=1)\n",
    "\n",
    "# Get attributes of the node 0\n",
    "node_0_attr = G.nodes[0]\n",
    "print(\"Node 0 has the attributes {}\".format(node_0_attr))"
   ]
  },
  {
   "cell_type": "code",
   "execution_count": 4,
   "metadata": {},
   "outputs": [
    {
     "data": {
      "text/plain": [
       "NodeDataView({0: {'feature': 5, 'label': 1}})"
      ]
     },
     "execution_count": 4,
     "metadata": {},
     "output_type": "execute_result"
    }
   ],
   "source": [
    "G.nodes(data=True)"
   ]
  },
  {
   "cell_type": "code",
   "execution_count": 5,
   "metadata": {},
   "outputs": [
    {
     "name": "stdout",
     "output_type": "stream",
     "text": [
      "(0, {'feature': 5, 'label': 1})\n",
      "(1, {'feature': 1, 'label': 1})\n",
      "(2, {'feature': 2, 'label': 2})\n",
      "G has 3 nodes\n"
     ]
    }
   ],
   "source": [
    "# Add multiple nodes with attributes\n",
    "G.add_nodes_from([\n",
    "  (1, {\"feature\": 1, \"label\": 1}),\n",
    "  (2, {\"feature\": 2, \"label\": 2})\n",
    "]) #(node, attrdict)\n",
    "\n",
    "# Loop through all the nodes\n",
    "# Set data=True will return node attributes\n",
    "for node in G.nodes(data=True):\n",
    "  print(node)\n",
    "\n",
    "# Get number of nodes\n",
    "num_nodes = G.number_of_nodes()\n",
    "print(\"G has {} nodes\".format(num_nodes))"
   ]
  },
  {
   "cell_type": "markdown",
   "metadata": {},
   "source": [
    "# Edge"
   ]
  },
  {
   "cell_type": "code",
   "execution_count": 6,
   "metadata": {},
   "outputs": [
    {
     "name": "stdout",
     "output_type": "stream",
     "text": [
      "Edge (0, 1) has the attributes {'weight': 0.5}\n"
     ]
    }
   ],
   "source": [
    "# Add one edge with edge weight 0.5\n",
    "G.add_edge(0, 1, weight=0.5)\n",
    "\n",
    "# Get attributes of the edge (0, 1)\n",
    "edge_0_1_attr = G.edges[(0, 1)]\n",
    "print(\"Edge (0, 1) has the attributes {}\".format(edge_0_1_attr))"
   ]
  },
  {
   "cell_type": "code",
   "execution_count": 7,
   "metadata": {},
   "outputs": [
    {
     "name": "stdout",
     "output_type": "stream",
     "text": [
      "(0, 1)\n",
      "(0, 2)\n",
      "(1, 2)\n",
      "G has 3 edges\n"
     ]
    }
   ],
   "source": [
    "# Add multiple edges with edge weights\n",
    "G.add_edges_from([\n",
    "  (1, 2, {\"weight\": 0.3}),\n",
    "  (2, 0, {\"weight\": 0.1})\n",
    "])\n",
    "\n",
    "# Loop through all the edges\n",
    "# Here there is no data=True, so only the edge will be returned\n",
    "for edge in G.edges():\n",
    "  print(edge)\n",
    "\n",
    "# Get number of edges\n",
    "num_edges = G.number_of_edges()\n",
    "print(\"G has {} edges\".format(num_edges))"
   ]
  },
  {
   "cell_type": "markdown",
   "metadata": {},
   "source": [
    "# Visualization"
   ]
  },
  {
   "cell_type": "code",
   "execution_count": 10,
   "metadata": {},
   "outputs": [
    {
     "data": {
      "image/png": "[encoded data removed]",
      "text/plain": [
       "<Figure size 640x480 with 1 Axes>"
      ]
     },
     "metadata": {},
     "output_type": "display_data"
    }
   ],
   "source": [
    "# Draw the graph\n",
    "pos = nx.spring_layout(G)  # 노드의 위치 계산\n",
    "nx.draw(G, pos, with_labels = True)\n",
    "\n",
    "# 엣지의 가중치 레이블 추가\n",
    "edge_labels = nx.get_edge_attributes(G, 'weight')\n",
    "nx.draw_networkx_edge_labels(G, pos, edge_labels=edge_labels)\n",
    "\n",
    "plt.show()"
   ]
  },
  {
   "cell_type": "markdown",
   "metadata": {},
   "source": [
    "# Node Degree and Neighbor"
   ]
  },
  {
   "cell_type": "code",
   "execution_count": 11,
   "metadata": {},
   "outputs": [
    {
     "name": "stdout",
     "output_type": "stream",
     "text": [
      "Node 1 has degree 2\n",
      "Node 1 has neighbor 0\n",
      "Node 1 has neighbor 2\n"
     ]
    }
   ],
   "source": [
    "node_id = 1\n",
    "\n",
    "# Degree of node 1\n",
    "print(\"Node {} has degree {}\".format(node_id, G.degree[node_id]))\n",
    "\n",
    "# Get neighbor of node 1\n",
    "for neighbor in G.neighbors(node_id):\n",
    "  print(\"Node {} has neighbor {}\".format(node_id, neighbor))"
   ]
  },
  {
   "cell_type": "markdown",
   "metadata": {},
   "source": [
    "## Other Functionalities"
   ]
  },
  {
   "cell_type": "code",
   "execution_count": 12,
   "metadata": {},
   "outputs": [
    {
     "data": {
      "text/plain": [
       "<networkx.classes.graph.Graph at 0x20c4614ebd0>"
      ]
     },
     "execution_count": 12,
     "metadata": {},
     "output_type": "execute_result"
    }
   ],
   "source": [
    "nx.path_graph(num_nodes)"
   ]
  },
  {
   "cell_type": "code",
   "execution_count": 13,
   "metadata": {},
   "outputs": [
    {
     "data": {
      "text/plain": [
       "{0: 0.17857162031103999,\n",
       " 1: 0.32142837968896,\n",
       " 2: 0.32142837968896,\n",
       " 3: 0.17857162031103999}"
      ]
     },
     "execution_count": 13,
     "metadata": {},
     "output_type": "execute_result"
    },
    {
     "data": {
      "image/png": "[encoded data removed]",
      "text/plain": [
       "<Figure size 640x480 with 1 Axes>"
      ]
     },
     "metadata": {},
     "output_type": "display_data"
    }
   ],
   "source": [
    "num_nodes = 4\n",
    "# Create a new path like graph and change it to a directed graph\n",
    "G = nx.DiGraph(nx.path_graph(num_nodes))\n",
    "nx.draw(G, with_labels = True)\n",
    "\n",
    "# Get the PageRank\n",
    "pr = nx.pagerank(G, alpha=0.8)\n",
    "pr"
   ]
  },
  {
   "cell_type": "code",
   "execution_count": null,
   "metadata": {},
   "outputs": [],
   "source": []
  },
  {
   "cell_type": "code",
   "execution_count": null,
   "metadata": {},
   "outputs": [],
   "source": []
  },
  {
   "cell_type": "code",
   "execution_count": null,
   "metadata": {},
   "outputs": [],
   "source": []
  },
  {
   "cell_type": "code",
   "execution_count": null,
   "metadata": {},
   "outputs": [],
   "source": []
  }
 ],
 "metadata": {
  "kernelspec": {
   "display_name": "base",
   "language": "python",
   "name": "python3"
  },
  "language_info": {
   "codemirror_mode": {
    "name": "ipython",
    "version": 3
   },
   "file_extension": ".py",
   "mimetype": "text/x-python",
   "name": "python",
   "nbconvert_exporter": "python",
   "pygments_lexer": "ipython3",
   "version": "3.11.4"
  }
 },
 "nbformat": 4,
 "nbformat_minor": 2
}
